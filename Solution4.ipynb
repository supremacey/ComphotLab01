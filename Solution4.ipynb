{
 "cells": [
  {
   "cell_type": "code",
   "execution_count": 1,
   "metadata": {
    "collapsed": false
   },
   "outputs": [
    {
     "name": "stdout",
     "output_type": "stream",
     "text": [
      "Populating the interactive namespace from numpy and matplotlib\n"
     ]
    }
   ],
   "source": [
    "%pylab inline\n",
    "import datetime\n",
    "import os\n",
    "from PIL import Image, ImageDraw\n",
    "from scipy import ndimage\n",
    "import cv2\n",
    "# from sklearn import preprocessing"
   ]
  },
  {
   "cell_type": "markdown",
   "metadata": {},
   "source": [
    "## Good reference\n",
    "- [ndimage processing](https://docs.scipy.org/doc/scipy-0.18.1/reference/tutorial/ndimage.html)"
   ]
  },
  {
   "cell_type": "code",
   "execution_count": 29,
   "metadata": {
    "collapsed": false
   },
   "outputs": [],
   "source": [
    "def fltr(what, trash):\n",
    "    return [i for i in what if i not in trash]\n",
    "\n",
    "def showmed(imgs):\n",
    "    for _, item in imgs.items():\n",
    "        imshow(item)\n",
    "        show()\n",
    "\n",
    "data = \"Lab4/data/\"\n",
    "trash = [\".DS_Store\"]  # Things I don't want to look at\n",
    "\n",
    "pics = []\n",
    "gaudi = {}\n",
    "rushmore = {}\n",
    "dame = {}\n",
    "\n",
    "for i in fltr(os.listdir(data), trash):\n",
    "    path = os.path.join(data, i)\n",
    "    if os.path.isdir(path):\n",
    "        for j in fltr(os.listdir(path),trash):\n",
    "            pics.append(os.path.join(path,j))\n",
    "\n",
    "gaudi[\"a\"] = Image.open(pics[0])\n",
    "gaudi[\"b\"] = Image.open(pics[1])\n",
    "rushmore[\"a\"] = Image.open(pics[2])\n",
    "rushmore[\"b\"] = Image.open(pics[3])\n",
    "dame[\"a\"] = Image.open(pics[4])\n",
    "dame[\"b\"] = Image.open(pics[5])\n",
    "img_data = {\"gaudi\": gaudi, \"dame\": dame, \"rushmore\": rushmore}\n",
    "test = Image.open(\"Lab4/data/test.png\")"
   ]
  },
  {
   "cell_type": "code",
   "execution_count": null,
   "metadata": {
    "collapsed": true
   },
   "outputs": [],
   "source": []
  },
  {
   "cell_type": "code",
   "execution_count": 3,
   "metadata": {
    "collapsed": false
   },
   "outputs": [
    {
     "name": "stdout",
     "output_type": "stream",
     "text": [
      "reduce\n"
     ]
    }
   ],
   "source": [
    "if not type(np.array([1])) is numpy.ndarray:\n",
    "    print (\"hello\")\n",
    "elif len(np.array([[[1]]]).shape) > 2:\n",
    "    print (\"reduce\")"
   ]
  },
  {
   "cell_type": "markdown",
   "metadata": {},
   "source": [
    "## Task 1 (30) Implement Harris corner detector\n",
    "\n",
    "$$A({\\mathbf  {x}})=\\sum _{{p,q}}w(p,q){\\begin{bmatrix}I_{{x}}^{2}({\\mathbf  {x}})&I_{{x}}I_{{y}}({\\mathbf  {x}})\\\\I_{{x}}I_{{y}}({\\mathbf  {x}})&I_{{y}}^{2}({\\mathbf  {x}})\\\\\\end{bmatrix}}$$\n",
    "\n",
    "- [Harris Corner Detector @ Penn State University](http://www.cse.psu.edu/~rtc12/CSE486/lecture06.pdf)"
   ]
  },
  {
   "cell_type": "code",
   "execution_count": 4,
   "metadata": {
    "collapsed": false
   },
   "outputs": [],
   "source": [
    "def harris(img, α, σI, threshold, save_img=False, show_img=False):\n",
    "    if not type(img) is numpy.ndarray:\n",
    "        lum = np.array(img.convert(\"YCbCr\"))[:,:,0]\n",
    "    elif len(img.shape) > 2:\n",
    "        lum = img[:,:,0]\n",
    "    (dimy, dimx) = lum.shape\n",
    "    \n",
    "    Ix = np.zeros((dimy, dimx))\n",
    "    Iy = Ix.copy()\n",
    "    ndimage.gaussian_filter(input=lum, sigma=[0,1], order=1, output=Ix)\n",
    "    ndimage.gaussian_filter(input=lum, sigma=[1,0], order=1, output=Iy)\n",
    "\n",
    "    Ix2 = Ix*Ix\n",
    "    Iy2 = Iy*Iy\n",
    "    Ixy = Ix*Iy\n",
    "\n",
    "    ndimage.gaussian_filter(input=Ix2, sigma=σI, output=Ix2, order=0)\n",
    "    ndimage.gaussian_filter(input=Iy2, sigma=σI, output=Iy2, order=0)\n",
    "    ndimage.gaussian_filter(input=Ixy, sigma=σI, output=Ixy, order=0)\n",
    "\n",
    "    R = ((Ix2*Iy2) - (Ixy*Ixy)) - α* ((Ix2+Iy2)**2)\n",
    "            \n",
    "    notCornersIndices = R < threshold\n",
    "    R[notCornersIndices] = 0\n",
    "    \n",
    "    if show_img:\n",
    "        for i in [Ix,Iy,Ix2,Iy2,Ixy,R]:\n",
    "            imshow(i)\n",
    "            show()\n",
    "        \n",
    "    if save_img:\n",
    "        Image.fromarray((Ix+127).astype(np.uint8)).save(\"Lab4/Ix.png\")\n",
    "        Image.fromarray((Iy+127).astype(np.uint8)).save(\"Lab4/Iy.png\")\n",
    "        Image.fromarray((Ix2+127).astype(np.uint8)).save(\"Lab4/gIx2.png\")\n",
    "        Image.fromarray((Iy2+127).astype(np.uint8)).save(\"Lab4/gIy2.png\")\n",
    "        Image.fromarray((Ixy+127).astype(np.uint8)).save(\"Lab4/gIxy.png\")\n",
    "        Image.fromarray((R+127).astype(uint8)).save(\"Lab4/har.png\")\n",
    "    \n",
    "    return R   \n",
    "\n",
    "def nms(R, non_max_size=8):\n",
    "    filterR = ndimage.maximum_filter(input=R, size=non_max_size) != R\n",
    "    R[filterR] = 0\n",
    "    return R"
   ]
  },
  {
   "cell_type": "code",
   "execution_count": 5,
   "metadata": {
    "collapsed": false
   },
   "outputs": [
    {
     "name": "stdout",
     "output_type": "stream",
     "text": [
      "Harris: 0:00:00.201381\n",
      "Done! Found: 62\n"
     ]
    }
   ],
   "source": [
    "sigma = 3\n",
    "threshold = 7000\n",
    "k = 0.05 # optimal 0.04 - 0.06\n",
    "nmsize = 8 # non-maxima suppression filter size\n",
    "picture = test.copy().convert()\n",
    "\n",
    "# (img, k, s, threshold, non_max_size\n",
    "t0 = datetime.datetime.now()\n",
    "R = harris(picture, k, sigma, threshold)\n",
    "# R[R < threshold] = 0\n",
    "R = nms(R, nmsize)\n",
    "d1,d2 = np.nonzero(R)\n",
    "print(\"Harris: \"+str(datetime.datetime.now()-t0))\n",
    "print(\"Done! Found: \"+str(len(d1)))\n",
    "\n",
    "drw = ImageDraw.Draw(picture)\n",
    "for i,j in zip(d1,d2):\n",
    "    drw.ellipse([(j-3,i-3),(j+3,i+3)],outline=(0,255,0))\n",
    "           \n",
    "del drw\n",
    "picture.save(\"Lab4/t01_test_th\"+str(threshold)+\"_s\"+str(sigma)\n",
    "             +\"_k\"+str(k)+\"_nms\"+str(nmsize)+\".png\")"
   ]
  },
  {
   "cell_type": "code",
   "execution_count": 6,
   "metadata": {
    "collapsed": false,
    "scrolled": false
   },
   "outputs": [
    {
     "name": "stdout",
     "output_type": "stream",
     "text": [
      "Done! Found: 2301\n"
     ]
    }
   ],
   "source": [
    "img_key = 'a'\n",
    "name = \"dame\"\n",
    "sigma = 3\n",
    "threshold = 5000\n",
    "k = 0.05 # optimal 0.04 - 0.06\n",
    "nmsize = 8 # non-maxima suppression filter size\n",
    "picture = img_data[name][img_key].copy()\n",
    "\n",
    "# (img, k, s, threshold, non_max_size)\n",
    "R = harris(picture, k, sigma, threshold)\n",
    "# R[R < threshold] = 0\n",
    "R = nms(R, nmsize)\n",
    "d1,d2 = np.nonzero(R)\n",
    "print(\"Done! Found: \"+str(len(d1)))\n",
    "\n",
    "drw = ImageDraw.Draw(picture)\n",
    "for i,j in zip(d1,d2):\n",
    "    drw.ellipse([(j-3,i-3),(j+3,i+3)],outline=(0,255,0))\n",
    "           \n",
    "del drw\n",
    "picture.save(\"Lab4/t01_\"+name+\"_\"+img_key\n",
    "             +\"_th\"+str(threshold)+\"_s\"+str(sigma)\n",
    "             +\"_k\"+str(k)+\"_nms\"+str(nmsize)+\".png\")"
   ]
  },
  {
   "cell_type": "markdown",
   "metadata": {
    "collapsed": false
   },
   "source": [
    "## Task 2 (30) Adaptive Non-maximal Suppression."
   ]
  },
  {
   "cell_type": "code",
   "execution_count": 7,
   "metadata": {
    "collapsed": false
   },
   "outputs": [],
   "source": [
    "from scipy.spatial.distance import cdist\n",
    "\n",
    "def anms(R, numPts = 500):\n",
    "    d1,d2 = np.nonzero(R)\n",
    "    pts = R[d1,d2]\n",
    "    tplist = list(zip(pts,d1,d2))\n",
    "    tplist.sort(reverse=True)\n",
    "    corners = np.array(tplist)   # easier to index than vanilla array of tuples\n",
    "    clen,_ = corners.shape\n",
    "    rpoints = [(float('inf'), tuple(corners[0]), tuple(corners[0]))]\n",
    "    \n",
    "    for i in range(1,clen):\n",
    "        rs = cdist([corners[i,1:]],corners[:i,1:]).flatten()\n",
    "        ind = np.argmin(rs)\n",
    "        r = rs[ind]\n",
    "        rpoints.append((r, tuple(corners[i]), tuple(corners[ind])))\n",
    "        \n",
    "    rpoints.sort(reverse=True)\n",
    "    return rpoints[:numPts]\n",
    "        "
   ]
  },
  {
   "cell_type": "code",
   "execution_count": 8,
   "metadata": {
    "collapsed": false
   },
   "outputs": [
    {
     "name": "stdout",
     "output_type": "stream",
     "text": [
      "Done! Found: 300\n"
     ]
    }
   ],
   "source": [
    "img_key = 'a'\n",
    "name = \"dame\"\n",
    "sigma = 3\n",
    "threshold = 5000\n",
    "k = 0.05 # optimal 0.04 - 0.06\n",
    "nmsize = 8 # non-maxima suppression filter size\n",
    "picture = img_data[name][img_key].copy()\n",
    "\n",
    "R = harris(picture, k, sigma, threshold)\n",
    "# R[R < threshold] = 0\n",
    "R = nms(R, nmsize)\n",
    "points = anms(R, numPts=300)\n",
    "print(\"Done! Found: \"+str(len(points)))\n",
    "\n",
    "drw = ImageDraw.Draw(picture)\n",
    "for (r,(_,i,j),(_,a,b)) in points:\n",
    "#     drw.ellipse([(j-r,i-r),(j+r,i+r)],outline=(255,0,0))\n",
    "#     drw.line([j,i,b,a],fill=(0,0,255),width=1)\n",
    "    drw.ellipse([(j-3,i-3),(j+3,i+3)],outline=(0,255,0))\n",
    "           \n",
    "del drw\n",
    "picture.save(\"Lab4/t02_\"+name+\"_\"+img_key\n",
    "             +\"_th\"+str(threshold)+\"_s\"+str(sigma)\n",
    "             +\"_k\"+str(k)+\"_nms\"+str(nmsize)+\".png\")"
   ]
  },
  {
   "cell_type": "markdown",
   "metadata": {
    "collapsed": false
   },
   "source": [
    "## Task 3 (40) Scale Invariant Keypoint Detector."
   ]
  },
  {
   "cell_type": "markdown",
   "metadata": {
    "collapsed": false
   },
   "source": [
    "### a) Harris-Laplace\n",
    "- [Richard J Radke, _Computer vision for visual effects_, page 114-117](https://cvfxbook.com/about/)"
   ]
  },
  {
   "cell_type": "code",
   "execution_count": 19,
   "metadata": {
    "collapsed": false
   },
   "outputs": [],
   "source": [
    "def harris_laplace(img, α, threshold):\n",
    "    lum = np.array(img.convert(\"YCbCr\"))[:,:,0]\n",
    "    # SCALE PARAMETERS\n",
    "    σ0 = 1\n",
    "    k  = 1.2\n",
    "    num_steps = 13\n",
    "    ks = k**np.array(range(num_steps))\n",
    "    \n",
    "    σI = ks*σ0  #sigmas for all different scales\n",
    "\n",
    "    σD = 0.7 * σI  #sigmas for derivatives\n",
    "    har = []\n",
    "    lap = []\n",
    "    for ak, sigI, sigD in zip(ks, σI, σD):\n",
    "        scaled = ndimage.gaussian_filter(input=img, sigma=sigD, order=0)\n",
    "        H = ak**2 * harris(scaled, α, sigI, 0)\n",
    "        H[H < threshold] = 0\n",
    "        H = nms(H)\n",
    "        L = ndimage.gaussian_filter(input=lum, sigma=sigD, order=2)\n",
    "        har.append(H)\n",
    "        lap.append(L)\n",
    "    \n",
    "    har = np.array(har)\n",
    "    co = 0;\n",
    "#     for i in har:\n",
    "#         cv2.imwrite(\"har_\"+str(co)+\".png\",i)\n",
    "#         co += 1\n",
    "    \n",
    "    lap = np.array(lap)\n",
    "#   finding local maximum in Laplacians\n",
    "    maxes = ndimage.maximum_filter(input=lap, size=(3,0,0)) == lap\n",
    "    max_scale_ind = np.argmax(maxes.view(dtype=np.int8), axis=0)\n",
    "    ys,xs = max_scale_ind.shape\n",
    "    points = []\n",
    "    for j in range(ys):\n",
    "        for i in range(xs):\n",
    "            scl = max_scale_ind[j,i]\n",
    "            if har[scl, j, i] > 0:\n",
    "                points.append((ks[scl],j, i))\n",
    "\n",
    "    return points"
   ]
  },
  {
   "cell_type": "code",
   "execution_count": 20,
   "metadata": {
    "collapsed": false
   },
   "outputs": [],
   "source": [
    "img_key = 'a'\n",
    "name = \"test\"\n",
    "sigma = 3\n",
    "threshold = 5000\n",
    "α = 0.05 # optimal 0.04 - 0.06\n",
    "nmsize = 8 # non-maxima suppression filter size\n",
    "picture = test.copy()\n",
    "points = harris_laplace(picture,α,threshold)"
   ]
  },
  {
   "cell_type": "code",
   "execution_count": 21,
   "metadata": {
    "collapsed": false
   },
   "outputs": [
    {
     "name": "stdout",
     "output_type": "stream",
     "text": [
      "Done! Found: 49\n"
     ]
    }
   ],
   "source": [
    "print(\"Done! Found: \"+str(len(points)))\n",
    "drw = ImageDraw.Draw(picture)\n",
    "for (scl,j,i) in points:\n",
    "    drw.ellipse([(i-scl,j-scl),(i+scl,j+scl)],outline=(255,0,0))\n",
    "    drw.line([i,j,i+scl,j+scl],fill=(0,0,255),width=1)\n",
    "    drw.ellipse([(i-3,j-3),(i+3,j+3)],outline=(0,255,0))\n",
    "           \n",
    "del drw\n",
    "picture.save(\"Lab4/t03_\"+name+\"_\"+img_key\n",
    "             +\"_th\"+str(threshold)+\"_s\"+str(sigma)\n",
    "             +\"_k\"+str(k)+\"_nms\"+str(nmsize)+\".png\")\n",
    "\n",
    "\n"
   ]
  },
  {
   "cell_type": "code",
   "execution_count": 38,
   "metadata": {
    "collapsed": false
   },
   "outputs": [],
   "source": [
    "# img_key = 'a'\n",
    "# name = \"gaudi\"\n",
    "def comp_points(name, img_key):\n",
    "    sigma = 3\n",
    "    threshold = 5000\n",
    "    α = 0.05 # optimal 0.04 - 0.06\n",
    "    picture = img_data[name][img_key].copy()\n",
    "    pic_name = name+\"_\"+img_key+\"_th\"+str(threshold)+\"_a\"+str(α)\n",
    "\n",
    "    points = harris_laplace(picture,α,threshold)\n",
    "    print(\"A \"+pic_name + \" done! Found: \"+str(len(points)))\n",
    "    # Saving to a file\n",
    "    to_save = np.array(points)\n",
    "    np.save(\"Lab4/points/\"+pic_name, to_save, allow_pickle=False)\n"
   ]
  },
  {
   "cell_type": "code",
   "execution_count": 39,
   "metadata": {
    "collapsed": false
   },
   "outputs": [
    {
     "name": "stdout",
     "output_type": "stream",
     "text": [
      "A gaudi_a_th5000_a0.05 done! Found: 11623\n",
      "A gaudi_b_th5000_a0.05 done! Found: 1101\n",
      "A dame_a_th5000_a0.05 done! Found: 3143\n",
      "A dame_b_th5000_a0.05 done! Found: 2722\n",
      "A rushmore_a_th5000_a0.05 done! Found: 742\n",
      "A rushmore_b_th5000_a0.05 done! Found: 4845\n"
     ]
    }
   ],
   "source": [
    "keys = ['a','b']\n",
    "names = [\"gaudi\", \"dame\", \"rushmore\"]\n",
    "for n, k in [(nn,kk) for nn in names for kk in keys]:\n",
    "    comp_points(n,k)"
   ]
  },
  {
   "cell_type": "code",
   "execution_count": 27,
   "metadata": {
    "collapsed": false
   },
   "outputs": [],
   "source": [
    "points = np.load(\"Lab4/points/\"+pic_name+\".npy\")\n",
    "\n",
    "drw = ImageDraw.Draw(picture)\n",
    "for (scl,j,i) in points:\n",
    "    drw.ellipse([(i-scl,j-scl),(i+scl,j+scl)],outline=(255,0,0))\n",
    "    drw.line([i,j,i+scl,j+scl],fill=(0,0,255),width=1)\n",
    "    drw.ellipse([(i-3,j-3),(i+3,j+3)],outline=(0,255,0))\n",
    "           \n",
    "del drw\n",
    "\n",
    "picture.save(\"Lab4/t03_\"+pic_name+\".png\")"
   ]
  },
  {
   "cell_type": "code",
   "execution_count": 24,
   "metadata": {
    "collapsed": false
   },
   "outputs": [
    {
     "data": {
      "text/plain": [
       "array([[  1.20000000e+00,   5.00000000e+00,   1.21000000e+03],\n",
       "       [  1.20000000e+00,   2.40000000e+01,   1.22900000e+03],\n",
       "       [  1.00000000e+00,   3.20000000e+01,   1.21200000e+03],\n",
       "       ..., \n",
       "       [  1.00000000e+00,   1.79800000e+03,   2.99000000e+02],\n",
       "       [  1.00000000e+00,   1.79900000e+03,   1.34500000e+03],\n",
       "       [  1.72800000e+00,   1.80000000e+03,   1.34500000e+03]])"
      ]
     },
     "execution_count": 24,
     "metadata": {},
     "output_type": "execute_result"
    }
   ],
   "source": []
  },
  {
   "cell_type": "markdown",
   "metadata": {
    "collapsed": true
   },
   "source": [
    "### b) Difference of Gaussians (DoG)"
   ]
  },
  {
   "cell_type": "code",
   "execution_count": null,
   "metadata": {
    "collapsed": true
   },
   "outputs": [],
   "source": []
  }
 ],
 "metadata": {
  "anaconda-cloud": {},
  "kernelspec": {
   "display_name": "Python [conda root]",
   "language": "python",
   "name": "conda-root-py"
  },
  "language_info": {
   "codemirror_mode": {
    "name": "ipython",
    "version": 3
   },
   "file_extension": ".py",
   "mimetype": "text/x-python",
   "name": "python",
   "nbconvert_exporter": "python",
   "pygments_lexer": "ipython3",
   "version": "3.5.2"
  }
 },
 "nbformat": 4,
 "nbformat_minor": 1
}
