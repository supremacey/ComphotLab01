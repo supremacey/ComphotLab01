{
 "cells": [
  {
   "cell_type": "markdown",
   "metadata": {},
   "source": []
  },
  {
   "cell_type": "code",
   "execution_count": null,
   "metadata": {
    "collapsed": true
   },
   "outputs": [],
   "source": [
    "import numpy as np\n",
    "from skimage import io, util\n",
    "\n",
    "# Loading a RAW image\n",
    "img_raw = util.img_as_float(io.imread(\"./../lighthouse_RAW_noisy_sigma0.01.png\"))\n",
    "\n",
    "# Size of RAW image\n",
    "(ydim, xdim) = img_raw.shape\n",
    "\n",
    "# Creating array for each channel RGB\n",
    "cr = np.zeros((ydim, xdim))\n",
    "cg = np.zeros((ydim, xdim))\n",
    "cb = np.zeros((ydim, xdim))\n",
    "\n",
    "cr[0::2, 0::2] = img_raw[0::2, 0::2]\n",
    "cg[1::2, 0::2] = img_raw[1::2, 0::2]\n",
    "cg[0::2, 1::2] = img_raw[0::2, 1::2]\n",
    "cb[1::2, 1::2] = img_raw[1::2, 1::2]\n",
    "\n",
    "cr_demo = cr.copy()\n",
    "cg_demo = cg.copy()\n",
    "cb_demo = cb.copy()\n"
   ]
  },
  {
   "cell_type": "markdown",
   "metadata": {},
   "source": [
    "Green gradient"
   ]
  },
  {
   "cell_type": "code",
   "execution_count": null,
   "metadata": {
    "collapsed": true
   },
   "outputs": [],
   "source": [
    "###############################################################################\n",
    "#                Demosaicking - gradient interpolation\n",
    "###############################################################################\n",
    "# green channel - edge-based\n",
    "for y in range(0,ydim,2):\n",
    "    for x in range(0,xdim,2):\n",
    "        vertical_gradinet = abs(cg_demo[max(y-1,0),x] - cg_demo[min(y+1,ydim-1),x])/2.0\n",
    "        horizontal_gradient = abs(cg_demo[y,max(x-1,0)] - cg_demo[y,min(x+1,xdim-1)])/2.0\n",
    "        if (horizontal_gradient > vertical_gradinet):\n",
    "            cg_demo[y,x] += .5*cg_demo[max(y-1,0),x]\n",
    "            cg_demo[y,x] += .5*cg_demo[min(y+1,ydim-1),x]\n",
    "        elif (vertical_gradinet > horizontal_gradient):\n",
    "            cg_demo[y,x] += .5*cg_demo[y,max(x-1,0)]\n",
    "            cg_demo[y,x] += .5*cg_demo[y,min(x+1,xdim-1)]\n",
    "        else:\n",
    "            cg_demo[y,x] += .25*cg_demo[max(y-1,0),x]\n",
    "            cg_demo[y,x] += .25*cg_demo[y,max(x-1,0)]\n",
    "            cg_demo[y,x] += .25*cg_demo[y,min(x+1,xdim-1)]\n",
    "            cg_demo[y,x] += .25*cg_demo[min(y+1,ydim-1),x]\n",
    "\n",
    "for y in range(1,ydim,2):\n",
    "    for x in range(1,xdim,2):\n",
    "        vertical_gradinet = abs(cg_demo[max(y-1,0),x] - cg_demo[min(y+1,ydim-1),x])/2.0\n",
    "        horizontal_gradient = abs(cg_demo[y,max(x-1,0)] - cg_demo[y,min(x+1,xdim-1)])/2.0\n",
    "        if (horizontal_gradient > vertical_gradinet):\n",
    "            cg_demo[y,x] += .5*cg_demo[max(y-1,0),x]\n",
    "            cg_demo[y,x] += .5*cg_demo[min(y+1,ydim-1),x]\n",
    "        elif (vertical_gradinet > horizontal_gradient):\n",
    "            cg_demo[y,x] += .5*cg_demo[y,max(x-1,0)]\n",
    "            cg_demo[y,x] += .5*cg_demo[y,min(x+1,xdim-1)]\n",
    "        else:\n",
    "            cg_demo[y,x] += .25*cg_demo[max(y-1,0),x]\n",
    "            cg_demo[y,x] += .25*cg_demo[y,max(x-1,0)]\n",
    "            cg_demo[y,x] += .25*cg_demo[y,min(x+1,xdim-1)]\n",
    "            cg_demo[y,x] += .25*cg_demo[min(y+1,ydim-1),x]\n"
   ]
  },
  {
   "cell_type": "code",
   "execution_count": null,
   "metadata": {
    "collapsed": true
   },
   "outputs": [],
   "source": [
    "################################################################################\n",
    "# red channel\n",
    "# for recorded red value pixels: -> R-G\n",
    "cr_demo[0::2, 0::2] = np.subtract(cr_demo[0::2, 0::2], cg_demo[0::2, 0::2])\n",
    "\n",
    "# vertical red-green diff interpolation over upper and lower neighbour\n",
    "for y in range(1,ydim,2):\n",
    "    for x in range(0,xdim,2):\n",
    "        cr_demo[y,x] += .5*cr_demo[max(y-1, 0), x]\n",
    "        cr_demo[y,x] += .5*cr_demo[min(y+1, ydim-1), x]\n",
    "\n",
    "# horizontal red-green diff interpolation over left and right neighbour\n",
    "for y in range(0,ydim,2):\n",
    "    for x in range(1,xdim,2):\n",
    "        cr_demo[y,x] += .5*cr_demo[y, max(x-1,0)]\n",
    "        cr_demo[y,x] += .5*cr_demo[y, min(x+1, xdim-1)]\n",
    "\n",
    "# red channel-green diff middle interpolation\n",
    "for y in range(1, ydim, 2):\n",
    "    for x in range(1, xdim, 2):\n",
    "        cr_demo[y,x] += .25*cr_demo[max(y-1, 0), max(x-1,0)] # left up\n",
    "        cr_demo[y,x] += .25*cr_demo[max(y-1, 0), min(x+1,xdim-1)] # right up\n",
    "        cr_demo[y,x] += .25*cr_demo[min(y+1,ydim-1), min(x+1,xdim-1)] # right down\n",
    "        cr_demo[y,x] += .25*cr_demo[min(y+1,ydim-1), max(x-1,0)] # left down\n",
    "\n",
    "# adding green to red\n",
    "cr_demo = np.add(cr_demo, cg_demo)\n",
    "# float [-1,1] range clip\n",
    "cr_demo = np.clip(cr_demo, 0.0,1.0)\n"
   ]
  },
  {
   "cell_type": "code",
   "execution_count": null,
   "metadata": {
    "collapsed": true
   },
   "outputs": [],
   "source": [
    "################################################################################\n",
    "# blue channel\n",
    "\n",
    "# for recorded blue value pixels: -> B-G\n",
    "cb_demo[1::2, 1::2] = np.subtract(cb_demo[1::2, 1::2], cg_demo[1::2, 1::2])\n",
    "# blue channel middle interpolation\n",
    "for y in range(0,ydim,2):\n",
    "    for x in range(0,xdim,2):\n",
    "        cb_demo[y,x] += .25*cb_demo[max(y-1, 0), max(x-1,0)] # left up\n",
    "        cb_demo[y,x] += .25*cb_demo[max(y-1, 0), min(x+1,xdim-1)] # right up\n",
    "        cb_demo[y,x] += .25*cb_demo[min(y+1,ydim-1), min(x+1,xdim-1)] # right down\n",
    "        cb_demo[y,x] += .25*cb_demo[min(y+1,ydim-1), max(x-1,0)] # left down\n",
    "\n",
    "# vertical blue interpolation over upper and lower neighbour\n",
    "for y in range(0,ydim,2):\n",
    "    for x in range(1,xdim,2):\n",
    "        cb_demo[y,x] += .5*cb_demo[max(y-1, 0), x]\n",
    "        cb_demo[y,x] += .5*cb_demo[min(y+1, ydim-1), x]\n",
    "\n",
    "# horizontal blue interpolation over left and right neighbour\n",
    "for y in range(1,ydim,2):\n",
    "    for x in range(0,xdim,2):\n",
    "        cb_demo[y,x] += .5*cb_demo[y, max(x-1,0)]\n",
    "        cb_demo[y,x] += .5*cb_demo[y, min(x+1, xdim-1)]\n",
    "\n",
    "# adding green to blue\n",
    "cb_demo = np.add(cb_demo, cg_demo)\n",
    "# float [-1,1] range clip\n",
    "cb_demo = np.clip(cb_demo, 0.0,1.0)\n"
   ]
  },
  {
   "cell_type": "code",
   "execution_count": null,
   "metadata": {
    "collapsed": true
   },
   "outputs": [],
   "source": [
    "# adding all 3 channels together\n",
    "sum_demo = np.zeros((ydim,xdim,3))\n",
    "for y in range(0,ydim):\n",
    "    for x in range(0,xdim):\n",
    "        sum_demo[y, x, 0] = cr_demo[y,x]  # red channel\n",
    "        sum_demo[y, x, 1] = cg_demo[y,x]  # green channel\n",
    "        sum_demo[y, x, 2] = cb_demo[y,x]  # blue channel\n",
    "###############################################################################\n",
    "# Saving images\n",
    "io.imsave(\"./img/cr_demo.png\", util.img_as_ubyte(cr_demo))\n",
    "io.imsave(\"./img/cg_demo.png\", util.img_as_ubyte(cg_demo))\n",
    "io.imsave(\"./img/cb_demo.png\", util.img_as_ubyte(cb_demo))\n",
    "io.imsave(\"./img/sum_demo.png\", util.img_as_ubyte(sum_demo))\n",
    "io.imsave(\"./img/cr_splice.png\", util.img_as_ubyte(cr))\n",
    "io.imsave(\"./img/cg_splice.png\", util.img_as_ubyte(cg))\n",
    "io.imsave(\"./img/cb_splice.png\", util.img_as_ubyte(cb))\n",
    "###############################################################################"
   ]
  }
 ],
 "metadata": {
  "anaconda-cloud": {},
  "kernelspec": {
   "display_name": "Python [conda env:ComPhot]",
   "language": "python",
   "name": "conda-env-ComPhot-py"
  },
  "language_info": {
   "codemirror_mode": {
    "name": "ipython",
    "version": 3
   },
   "file_extension": ".py",
   "mimetype": "text/x-python",
   "name": "python",
   "nbconvert_exporter": "python",
   "pygments_lexer": "ipython3",
   "version": "3.5.2"
  }
 },
 "nbformat": 4,
 "nbformat_minor": 1
}
