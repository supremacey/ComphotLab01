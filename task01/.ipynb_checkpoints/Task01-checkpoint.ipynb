{
 "cells": [
  {
   "cell_type": "code",
   "execution_count": 8,
   "metadata": {
    "collapsed": false
   },
   "outputs": [],
   "source": [
    "import numpy as np\n",
    "from skimage import io, util"
   ]
  },
  {
   "cell_type": "markdown",
   "metadata": {},
   "source": [
    "![Bayer pattern](./img/lighthouse_RAW_noisy_sigma0.01.png \"Bayer patterned image.\")\n",
    "\n",
    "write something about bayer pattern and how it looks like, why and so on\n",
    "\n",
    "![Bayer pattern](./img/bayer_pattern_big.png \"Bayer pattern in close up.\")\n",
    "\n",
    "Add the description what is done in the next step - separating the channels and preparing them for demosaicking"
   ]
  },
  {
   "cell_type": "code",
   "execution_count": 3,
   "metadata": {
    "collapsed": true
   },
   "outputs": [],
   "source": [
    "# Loading a RAW image\n",
    "img_raw = util.img_as_float(io.imread(\"./../lighthouse_RAW_noisy_sigma0.01.png\"))\n",
    "\n",
    "# Size of RAW image\n",
    "(ydim, xdim) = img_raw.shape\n",
    "\n",
    "# Creating array for each channel RGB\n",
    "cr = np.zeros((ydim, xdim))\n",
    "cg = np.zeros((ydim, xdim))\n",
    "cb = np.zeros((ydim, xdim))\n",
    "\n",
    "cr[0::2, 0::2] = img_raw[0::2, 0::2]\n",
    "cg[1::2, 0::2] = img_raw[1::2, 0::2]\n",
    "cg[0::2, 1::2] = img_raw[0::2, 1::2]\n",
    "cb[1::2, 1::2] = img_raw[1::2, 1::2]\n",
    "\n",
    "cr_demo = cr.copy()\n",
    "cg_demo = cg.copy()\n",
    "cb_demo = cb.copy()\n"
   ]
  },
  {
   "cell_type": "markdown",
   "metadata": {},
   "source": [
    "Now write how it is done for each channel - describe simply the naive linear interpolation "
   ]
  },
  {
   "cell_type": "code",
   "execution_count": 5,
   "metadata": {
    "collapsed": true
   },
   "outputs": [],
   "source": [
    "# green channel\n",
    "for y in range(0,ydim,2):\n",
    "    for x in range(0,xdim,2):\n",
    "            cg_demo[y,x] += .25*cg_demo[max(y-1,0),x]\n",
    "            cg_demo[y,x] += .25*cg_demo[y,max(x-1,0)]\n",
    "            cg_demo[y,x] += .25*cg_demo[y,min(x+1,xdim-1)]\n",
    "            cg_demo[y,x] += .25*cg_demo[min(y+1,ydim-1),x]\n",
    "\n",
    "for y in range(1,ydim,2):\n",
    "    for x in range(1,xdim,2):\n",
    "            cg_demo[y,x] += .25*cg_demo[max(y-1,0),x]\n",
    "            cg_demo[y,x] += .25*cg_demo[y,max(x-1,0)]\n",
    "            cg_demo[y,x] += .25*cg_demo[y,min(x+1,xdim-1)]\n",
    "            cg_demo[y,x] += .25*cg_demo[min(y+1,ydim-1),x]\n"
   ]
  },
  {
   "cell_type": "markdown",
   "metadata": {},
   "source": [
    "result of that interpolation\n",
    "\n",
    "|Original|Interpolated|\n",
    "|:---:|:---:|\n",
    "|![Bayer pattern](./img/cg_splice.png \"Original red channel.\")|![Bayer pattern](./img/cg_demo.png \"Red channel interpolation.\")|\n",
    "\n",
    "last channel"
   ]
  },
  {
   "cell_type": "code",
   "execution_count": 4,
   "metadata": {
    "collapsed": true
   },
   "outputs": [],
   "source": [
    "# vertical red interpolation over upper and lower neighbour\n",
    "for y in range(1,ydim,2):\n",
    "    for x in range(0,xdim,2):\n",
    "        cr_demo[y,x] += .5*cr_demo[max(y-1, 0), x]\n",
    "        cr_demo[y,x] += .5*cr_demo[min(y+1, ydim-1), x]\n",
    "\n",
    "# horizontal red interpolation over left and right neighbour\n",
    "for y in range(0,ydim,2):\n",
    "    for x in range(1,xdim,2):\n",
    "        cr_demo[y,x] += .5*cr_demo[y, max(x-1,0)]\n",
    "        cr_demo[y,x] += .5*cr_demo[y, min(x+1, xdim-1)]\n",
    "\n",
    "# red channel middle interpolation\n",
    "for y in range(1, ydim, 2):\n",
    "    for x in range(1, xdim, 2):\n",
    "        cr_demo[y,x] += .25*cr_demo[max(y-1, 0), max(x-1,0)] # left up\n",
    "        cr_demo[y,x] += .25*cr_demo[max(y-1, 0), min(x+1,xdim-1)] # right up\n",
    "        cr_demo[y,x] += .25*cr_demo[min(y+1,ydim-1), min(x+1,xdim-1)] # right down\n",
    "        cr_demo[y,x] += .25*cr_demo[min(y+1,ydim-1), max(x-1,0)] # left down\n",
    "        "
   ]
  },
  {
   "cell_type": "markdown",
   "metadata": {},
   "source": [
    "result of that interpolation\n",
    "\n",
    "|Original|Interpolated|\n",
    "|:---:|:---:|\n",
    "|![Bayer pattern](./img/cr_splice.png \"Original red channel.\")|![Bayer pattern](./img/cr_demo.png \"Red channel interpolation.\")|\n",
    "\n",
    "next channel"
   ]
  },
  {
   "cell_type": "code",
   "execution_count": 6,
   "metadata": {
    "collapsed": true
   },
   "outputs": [],
   "source": [
    "# blue channel middle interpolation\n",
    "for y in range(0,ydim,2):\n",
    "    for x in range(0,xdim,2):\n",
    "        cb_demo[y,x] += .25*cb_demo[max(y-1, 0), max(x-1,0)] # left up\n",
    "        cb_demo[y,x] += .25*cb_demo[max(y-1, 0), min(x+1,xdim-1)] # right up\n",
    "        cb_demo[y,x] += .25*cb_demo[min(y+1,ydim-1), min(x+1,xdim-1)] # right down\n",
    "        cb_demo[y,x] += .25*cb_demo[min(y+1,ydim-1), max(x-1,0)] # left down\n",
    "\n",
    "# vertical blue interpolation over upper and lower neighbour\n",
    "for y in range(0,ydim,2):\n",
    "    for x in range(1,xdim,2):\n",
    "        cb_demo[y,x] += .5*cb_demo[max(y-1, 0), x]\n",
    "        cb_demo[y,x] += .5*cb_demo[min(y+1, ydim-1), x]\n",
    "\n",
    "# horizontal blue interpolation over left and right neighbour\n",
    "for y in range(1,ydim,2):\n",
    "    for x in range(0,xdim,2):\n",
    "        cb_demo[y,x] += .5*cb_demo[y, max(x-1,0)]\n",
    "        cb_demo[y,x] += .5*cb_demo[y, min(x+1, xdim-1)]\n",
    "        "
   ]
  },
  {
   "cell_type": "markdown",
   "metadata": {},
   "source": [
    "result of that interpolation\n",
    "\n",
    "|Original|Interpolated|\n",
    "|:---:|:---:|\n",
    "|![Bayer pattern](./img/cb_splice.png \"Original red channel.\")|![Bayer pattern](./img/cb_demo.png \"Red channel interpolation.\")|\n",
    "\n",
    "And adding all up to the final result"
   ]
  },
  {
   "cell_type": "code",
   "execution_count": 9,
   "metadata": {
    "collapsed": false
   },
   "outputs": [
    {
     "name": "stderr",
     "output_type": "stream",
     "text": [
      "C:\\Program Files\\Anaconda3\\envs\\ComPhot\\lib\\site-packages\\skimage\\util\\dtype.py:110: UserWarning: Possible precision loss when converting from float64 to uint8\n",
      "  \"%s to %s\" % (dtypeobj_in, dtypeobj))\n"
     ]
    }
   ],
   "source": [
    "# adding all 3 channels together\n",
    "sum_demo = np.zeros((ydim,xdim,3))\n",
    "for y in range(0,ydim):\n",
    "    for x in range(0,xdim):\n",
    "        sum_demo[y, x, 0] = cr_demo[y,x]  # red channel\n",
    "        sum_demo[y, x, 1] = cg_demo[y,x]  # green channel\n",
    "        sum_demo[y, x, 2] = cb_demo[y,x]  # blue channel\n",
    "###############################################################################\n",
    "# Saving demosaicked channels and image\n",
    "io.imsave(\"./img/cr_demo.png\", util.img_as_ubyte(cr_demo))\n",
    "io.imsave(\"./img/cg_demo.png\", util.img_as_ubyte(cg_demo))\n",
    "io.imsave(\"./img/cb_demo.png\", util.img_as_ubyte(cb_demo))\n",
    "io.imsave(\"./img/sum_demo.png\", util.img_as_ubyte(sum_demo))\n",
    "io.imsave(\"./img/cr_splice.png\", util.img_as_ubyte(cr))\n",
    "io.imsave(\"./img/cg_splice.png\", util.img_as_ubyte(cg))\n",
    "io.imsave(\"./img/cb_splice.png\", util.img_as_ubyte(cb))\n",
    "###############################################################################"
   ]
  },
  {
   "cell_type": "markdown",
   "metadata": {},
   "source": [
    "result of that interpolation\n",
    "\n",
    "|Red|Green|\n",
    "|:---:|:---:|\n",
    "|![Red demo](./img/cr_demo.png \"Original red channel.\")|![Green demo](./img/cg_demo.png \"Red channel interpolation.\")|\n",
    "|__Blue__|__Result__|\n",
    "|![Blue demo](./img/cb_demo.png \"Original red channel.\")|![Result image](./img/sum_demo.png \"Red channel interpolation.\")|\n",
    "\n",
    "comparision with provided image\n",
    "\n",
    "|Our demosaicked|Provided |\n",
    "|:---:|:---:|\n",
    "|![Red demo](./img/sum_demo.png \"Original red channel.\")|![Green demo](./img/lighthouse.png \"Red channel interpolation.\")|"
   ]
  }
 ],
 "metadata": {
  "anaconda-cloud": {},
  "kernelspec": {
   "display_name": "Python [conda env:ComPhot]",
   "language": "python",
   "name": "conda-env-ComPhot-py"
  },
  "language_info": {
   "codemirror_mode": {
    "name": "ipython",
    "version": 3
   },
   "file_extension": ".py",
   "mimetype": "text/x-python",
   "name": "python",
   "nbconvert_exporter": "python",
   "pygments_lexer": "ipython3",
   "version": "3.5.2"
  }
 },
 "nbformat": 4,
 "nbformat_minor": 1
}
