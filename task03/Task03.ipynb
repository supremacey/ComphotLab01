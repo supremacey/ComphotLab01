{
 "cells": [
  {
   "cell_type": "markdown",
   "metadata": {},
   "source": [
    "## Task 3: Gamma Correction(10)\n",
    ">The demosaicked image will still be linear, apply a gamma correction to convert it to a sRGB\n",
    "image."
   ]
  },
  {
   "cell_type": "code",
   "execution_count": 2,
   "metadata": {
    "collapsed": false
   },
   "outputs": [
    {
     "name": "stderr",
     "output_type": "stream",
     "text": [
      "C:\\Program Files\\Anaconda3\\envs\\ComPhot\\lib\\site-packages\\skimage\\util\\dtype.py:110: UserWarning: Possible precision loss when converting from float64 to uint8\n",
      "  \"%s to %s\" % (dtypeobj_in, dtypeobj))\n"
     ]
    }
   ],
   "source": [
    "import numpy as np\n",
    "from skimage import io, util\n",
    "\n",
    "naive_image_name = \"naive_linear.png\"\n",
    "gradient_image_name = \"gradient_linear.png\"\n",
    "gamma_value = 2.2\n",
    "\n",
    "# Loading a RAW image\n",
    "img_naive = util.img_as_float(io.imread(\"./\"+naive_image_name))\n",
    "img_gradient = util.img_as_float(io.imread(\"./\"+gradient_image_name))\n"
   ]
  },
  {
   "cell_type": "markdown",
   "metadata": {},
   "source": [
    "### Gamma correction function\n",
    "## Idea\n",
    "To perform gamma corection on an image we have to apply exponential function on every pixel of an image. The base of the exponent, pixel value, should be normalized in range [0,1]. While dealing with 8 bit pixels we have to divide it by the max value = 255 and multiply back, to recieve new gamma corrected value layin in the same range.\n",
    "The exponent of the function is reverse \n",
    "Luckly Numpy library has a function "
   ]
  },
  {
   "cell_type": "code",
   "execution_count": null,
   "metadata": {
    "collapsed": true
   },
   "outputs": [],
   "source": [
    "###############################################################################\n",
    "#               Gamma correction\n",
    "###############################################################################\n",
    "def gamma_correction(pixel, gamma_value):\n",
    "    return ((pixel)**(1.0/gamma_value))\n",
    "\n",
    "vec_gamma = np.vectorize(gamma_correction)\n",
    "\n",
    "result_naive = vec_gamma(img_naive, gamma_value)\n",
    "result_naive = np.clip(result_naive, 0.0, 1.0)\n",
    "result_gradient = vec_gamma(img_gradient, gamma_value)\n",
    "result_gradient = np.clip(result_gradient, 0.0, 1.0)\n",
    "\n",
    "###############################################################################\n",
    "# Saving gamma-corrected image\n",
    "io.imsave(\"./gamma_correctd_\"+str(gamma_value)+\"_\"+naive_image_name, util.img_as_ubyte(result_naive))\n",
    "io.imsave(\"./gamma_correctd_\"+str(gamma_value)+\"_\"+gradient_image_name, util.img_as_ubyte(result_gradient))\n",
    "###############################################################################\n"
   ]
  }
 ],
 "metadata": {
  "anaconda-cloud": {},
  "kernelspec": {
   "display_name": "Python [conda env:ComPhot]",
   "language": "python",
   "name": "conda-env-ComPhot-py"
  },
  "language_info": {
   "codemirror_mode": {
    "name": "ipython",
    "version": 3
   },
   "file_extension": ".py",
   "mimetype": "text/x-python",
   "name": "python",
   "nbconvert_exporter": "python",
   "pygments_lexer": "ipython3",
   "version": "3.5.2"
  }
 },
 "nbformat": 4,
 "nbformat_minor": 1
}
